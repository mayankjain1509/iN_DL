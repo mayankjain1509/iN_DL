{
  "nbformat": 4,
  "nbformat_minor": 0,
  "metadata": {
    "colab": {
      "name": "ineuron_Python_Assig_2.ipynb",
      "provenance": []
    },
    "kernelspec": {
      "name": "python3",
      "display_name": "Python 3"
    }
  },
  "cells": [
    {
      "cell_type": "markdown",
      "metadata": {
        "id": "JtC2Jf-O8x9J"
      },
      "source": [
        "##Question No 1 \n",
        "#Create the below pattern using nested for loop in Python."
      ]
    },
    {
      "cell_type": "code",
      "metadata": {
        "id": "EBgTKfGK9Ah7",
        "colab": {
          "base_uri": "https://localhost:8080/",
          "height": 170
        },
        "outputId": "a21e4e0a-bb3f-4666-8d8e-77ca96e30993"
      },
      "source": [
        "for i in range(1,6,1):\n",
        "    print('*'*i)\n",
        "for i in range(4,0,-1):\n",
        "    print('*'*i)"
      ],
      "execution_count": null,
      "outputs": [
        {
          "output_type": "stream",
          "text": [
            "*\n",
            "**\n",
            "***\n",
            "****\n",
            "*****\n",
            "****\n",
            "***\n",
            "**\n",
            "*\n"
          ],
          "name": "stdout"
        }
      ]
    },
    {
      "cell_type": "markdown",
      "metadata": {
        "id": "lOJRJKUy9HAC"
      },
      "source": [
        "\n",
        "\n",
        "##Question No 2\n",
        "# Write a Python program to reverse a word after accepting the input from the user."
      ]
    },
    {
      "cell_type": "code",
      "metadata": {
        "id": "Uvfjb_Ak9XGk",
        "colab": {
          "base_uri": "https://localhost:8080/"
        },
        "outputId": "e7cebd01-0f56-4d4b-ab31-9546d0b44f36"
      },
      "source": [
        "#Enter the word\n",
        "s = str(input('Input word :'))\n",
        "\n",
        "#Reverse of the word\n",
        "print(\"Output :\", s[::-1])"
      ],
      "execution_count": 1,
      "outputs": [
        {
          "output_type": "stream",
          "text": [
            "Input word :ineuron\n",
            "Output : norueni\n"
          ],
          "name": "stdout"
        }
      ]
    },
    {
      "cell_type": "code",
      "metadata": {
        "id": "6VqI6g4xT_lf"
      },
      "source": [
        ""
      ],
      "execution_count": 1,
      "outputs": []
    }
  ]
}