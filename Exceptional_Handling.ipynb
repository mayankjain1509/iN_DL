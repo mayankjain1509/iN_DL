{
  "nbformat": 4,
  "nbformat_minor": 0,
  "metadata": {
    "colab": {
      "name": "Exceptional_Handling.ipynb",
      "provenance": []
    },
    "kernelspec": {
      "name": "python3",
      "display_name": "Python 3"
    }
  },
  "cells": [
    {
      "cell_type": "markdown",
      "metadata": {
        "id": "DzQqd4kKX-Bl"
      },
      "source": [
        "## Question No.1\r\n",
        "# Write a function to compute 5/0 and use try/except to catch the exceptions."
      ]
    },
    {
      "cell_type": "code",
      "metadata": {
        "id": "TEG29ufpX39T"
      },
      "source": [
        "def divide_function(x,y):\r\n",
        "    \r\n",
        "    try:\r\n",
        "        z = x/y\r\n",
        "        print(\"Number is valid\")        \r\n",
        "        \r\n",
        "    except:\r\n",
        "        y=0\r\n",
        "        print(\"Denominator value is zero\")"
      ],
      "execution_count": 2,
      "outputs": []
    },
    {
      "cell_type": "code",
      "metadata": {
        "colab": {
          "base_uri": "https://localhost:8080/"
        },
        "id": "HLBh233zYFYz",
        "outputId": "a3b35746-3f66-40a5-c5bf-6fd79fb7e7f6"
      },
      "source": [
        "divide_function(5,0)"
      ],
      "execution_count": 3,
      "outputs": [
        {
          "output_type": "stream",
          "text": [
            "Denominator value is zero\n"
          ],
          "name": "stdout"
        }
      ]
    },
    {
      "cell_type": "markdown",
      "metadata": {
        "id": "rf_LWpCFYI5J"
      },
      "source": [
        "## Question No.2 \r\n",
        "# Implement a Python program to generate all sentences where subject is in [\"Americans\",\"Indians\"] and verb is in\r\n",
        "# [\"Play\", \"watch\"] and the object is in [\"Baseball\",\"cricket\"]."
      ]
    },
    {
      "cell_type": "code",
      "metadata": {
        "colab": {
          "base_uri": "https://localhost:8080/"
        },
        "id": "2T9w3_h8YOOR",
        "outputId": "f6eb9286-837b-4525-b337-0a8fb0f15e6c"
      },
      "source": [
        "subject = [\" American\",\" Indians\"]\r\n",
        "verbs = [\" play\",\" watch\"]\r\n",
        "objects = [\" Baseball.\",\" Cricket.\"]\r\n",
        "\r\n",
        "x = [i+j+k for i in subject for j in verbs for k in objects]\r\n",
        "\r\n",
        "for y in x:\r\n",
        "    print(y)"
      ],
      "execution_count": 4,
      "outputs": [
        {
          "output_type": "stream",
          "text": [
            " American play Baseball.\n",
            " American play Cricket.\n",
            " American watch Baseball.\n",
            " American watch Cricket.\n",
            " Indians play Baseball.\n",
            " Indians play Cricket.\n",
            " Indians watch Baseball.\n",
            " Indians watch Cricket.\n"
          ],
          "name": "stdout"
        }
      ]
    }
  ]
}